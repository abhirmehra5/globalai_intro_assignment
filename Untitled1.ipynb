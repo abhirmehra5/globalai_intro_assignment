{
 "cells": [
  {
   "cell_type": "code",
   "execution_count": 1,
   "id": "d6c1c967",
   "metadata": {},
   "outputs": [],
   "source": [
    "from pandas_datareader import data\n",
    "import matplotlib.pyplot as plt\n",
    "import pandas as pd\n",
    "from yahoo_fin.stock_info import get_data\n",
    "import csv\n",
    "import pandas_datareader as pdr\n",
    "import datetime\n",
    "from pathlib import Path\n",
    "from datetime import date"
   ]
  },
  {
   "cell_type": "code",
   "execution_count": 2,
   "id": "c2ef7176",
   "metadata": {},
   "outputs": [],
   "source": [
    "tickers = ['CCL','AMD','AAPL','AMC','NKE','SPY','TQQQ','XLF','EEM','HYG']\n",
    "data=pdr.DataReader(tickers, data_source='yahoo',start='2017-06-27',end='2022-06-27')"
   ]
  },
  {
   "cell_type": "code",
   "execution_count": 3,
   "id": "638f1e9b",
   "metadata": {},
   "outputs": [],
   "source": [
    "filepath = Path('/Users/AbhirMehra/Desktop/dash/data.csv')  \n",
    "filepath.parent.mkdir(parents=True, exist_ok=True)  \n",
    "data.to_csv(filepath) "
   ]
  },
  {
   "cell_type": "code",
   "execution_count": 4,
   "id": "278815be",
   "metadata": {},
   "outputs": [],
   "source": [
    "def update_table(todaysdate):\n",
    "    newdata=pdr.DataReader(tickers, data_source='yahoo',start=todaysdate)\n",
    "    global data\n",
    "    data= data.append(newdata)\n",
    "    return data.to_csv(filepath)"
   ]
  },
  {
   "cell_type": "code",
   "execution_count": 5,
   "id": "93379862",
   "metadata": {},
   "outputs": [
    {
     "name": "stderr",
     "output_type": "stream",
     "text": [
      "/var/folders/sb/9s3wjlmn3mj5lkscq0xyyt8m0000gn/T/ipykernel_32933/3437166114.py:4: FutureWarning: The frame.append method is deprecated and will be removed from pandas in a future version. Use pandas.concat instead.\n",
      "  data= data.append(newdata)\n"
     ]
    }
   ],
   "source": [
    "update_table(date.today())"
   ]
  }
 ],
 "metadata": {
  "kernelspec": {
   "display_name": "Python 3 (ipykernel)",
   "language": "python",
   "name": "python3"
  },
  "language_info": {
   "codemirror_mode": {
    "name": "ipython",
    "version": 3
   },
   "file_extension": ".py",
   "mimetype": "text/x-python",
   "name": "python",
   "nbconvert_exporter": "python",
   "pygments_lexer": "ipython3",
   "version": "3.10.5"
  }
 },
 "nbformat": 4,
 "nbformat_minor": 5
}
